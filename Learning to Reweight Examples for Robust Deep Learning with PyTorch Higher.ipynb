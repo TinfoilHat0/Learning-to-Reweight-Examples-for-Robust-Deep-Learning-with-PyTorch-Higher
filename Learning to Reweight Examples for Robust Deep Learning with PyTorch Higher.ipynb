{
 "cells": [
  {
   "cell_type": "code",
   "execution_count": 1,
   "metadata": {},
   "outputs": [],
   "source": [
    "import sys\n",
    "sys.path.insert(1, '../src/')\n",
    "import torch\n",
    "from tqdm.notebook import tqdm\n",
    "import torch.nn as nn\n",
    "import torch.optim as optim\n",
    "from torch.optim import lr_scheduler\n",
    "import numpy as np\n",
    "import torchvision\n",
    "from torchvision import datasets,transforms\n",
    "from torch.utils.tensorboard import SummaryWriter\n",
    "from torch.utils.data import DataLoader\n",
    "from torch.nn.utils import vector_to_parameters, parameters_to_vector\n",
    "import matplotlib.pyplot as plt\n",
    "import time\n",
    "import os\n",
    "import copy\n",
    "import utils\n",
    "from torchsummary import summary\n",
    "import models\n",
    "import random\n",
    "import torch.nn.functional as F\n",
    "import shutil\n",
    "import copy\n",
    "from torch import autograd\n",
    "from torchviz import make_dot, make_dot_from_trace\n",
    "import higher"
   ]
  },
  {
   "cell_type": "code",
   "execution_count": 2,
   "metadata": {},
   "outputs": [],
   "source": [
    "torch.backends.cudnn.enabled = True\n",
    "torch.backends.cudnn.benchmark = True"
   ]
  },
  {
   "cell_type": "code",
   "execution_count": 3,
   "metadata": {},
   "outputs": [],
   "source": [
    "class args:\n",
    "    data='cifar10'\n",
    "    bs = 512\n",
    "    device = 'cuda:0'\n",
    "    lr = 1e-1\n",
    "    wd = 5e-4\n",
    "    epochs=100\n",
    "    nesterov=True\n",
    "    moment=0.9"
   ]
  },
  {
   "cell_type": "code",
   "execution_count": 4,
   "metadata": {},
   "outputs": [
    {
     "name": "stdout",
     "output_type": "stream",
     "text": [
      "Files already downloaded and verified\n",
      "Files already downloaded and verified\n"
     ]
    }
   ],
   "source": [
    "train_dataset, val_dataset = utils.get_datasets(args.data)\n",
    "meta_dataset = copy.deepcopy(train_dataset)\n",
    "meta_dataset.data = meta_dataset.data[:512]\n",
    "meta_dataset.targets = meta_dataset.targets[:512]"
   ]
  },
  {
   "cell_type": "code",
   "execution_count": 5,
   "metadata": {},
   "outputs": [],
   "source": [
    "train_loader = DataLoader(train_dataset, batch_size=args.bs, shuffle=True, num_workers=2, pin_memory=True)\n",
    "meta_loader =  DataLoader(meta_dataset, batch_size=args.bs, shuffle=True)\n",
    "val_loader =  DataLoader(val_dataset, batch_size=args.bs, shuffle=False, num_workers=2, pin_memory=True)"
   ]
  },
  {
   "cell_type": "code",
   "execution_count": 6,
   "metadata": {},
   "outputs": [],
   "source": [
    "_, (meta_inputs, meta_labels) =  next(enumerate(meta_loader))\n",
    "meta_inputs, meta_labels = meta_inputs.to(device=args.device, non_blocking=True),\\\n",
    "                             meta_labels.to(device=args.device, non_blocking=True)\n",
    "del meta_loader"
   ]
  },
  {
   "cell_type": "code",
   "execution_count": 7,
   "metadata": {},
   "outputs": [],
   "source": [
    "model = models.get_model(args.data).to(args.device)\n",
    "parameters_bias = [p[1] for p in model.named_parameters() if 'bias' in p[0]]\n",
    "parameters_scale = [p[1] for p in model.named_parameters() if 'scale' in p[0]]\n",
    "parameters_others = [p[1] for p in model.named_parameters() if not ('bias' in p[0] or 'scale' in p[0])]\n",
    "opt = optim.SGD([{'params': parameters_bias, 'lr': args.lr/10.},\\\n",
    "                    {'params': parameters_scale, 'lr': args.lr/10.},\\\n",
    "                    {'params': parameters_others}], lr=args.lr,\\\n",
    "                    momentum=args.moment, weight_decay=args.wd,nesterov=args.nesterov)\n",
    "\n",
    "criterion = nn.CrossEntropyLoss().to(args.device)\n",
    "scheduler = optim.lr_scheduler.ReduceLROnPlateau(opt, patience=5, verbose=True)\n",
    "#summary(model, (3, 32, 32))"
   ]
  },
  {
   "cell_type": "code",
   "execution_count": 8,
   "metadata": {},
   "outputs": [],
   "source": [
    "start_time, end_time = torch.cuda.Event(enable_timing=True),\\\n",
    "                        torch.cuda.Event(enable_timing=True)\n",
    "\n",
    "writer = SummaryWriter('logs/centralized')\n",
    "start_time.record()"
   ]
  },
  {
   "cell_type": "code",
   "execution_count": 9,
   "metadata": {},
   "outputs": [
    {
     "data": {
      "application/vnd.jupyter.widget-view+json": {
       "model_id": "b84ff80ea8f849e29a1a916e213e4085",
       "version_major": 2,
       "version_minor": 0
      },
      "text/plain": [
       "HBox(children=(FloatProgress(value=0.0), HTML(value='')))"
      ]
     },
     "metadata": {},
     "output_type": "display_data"
    },
    {
     "name": "stdout",
     "output_type": "stream",
     "text": [
      "|Train/Valid Loss: 2.025 / 1.873|--|Train/Valid Acc: 0.256 / 0.312|\r"
     ]
    },
    {
     "ename": "KeyboardInterrupt",
     "evalue": "",
     "output_type": "error",
     "traceback": [
      "\u001b[0;31m---------------------------------------------------------------------------\u001b[0m",
      "\u001b[0;31mKeyboardInterrupt\u001b[0m                         Traceback (most recent call last)",
      "\u001b[0;32m<ipython-input-9-3a73c656a2ee>\u001b[0m in \u001b[0;36m<module>\u001b[0;34m\u001b[0m\n\u001b[1;32m     27\u001b[0m         \u001b[0mw_tilde\u001b[0m \u001b[0;34m=\u001b[0m \u001b[0mtorch\u001b[0m\u001b[0;34m.\u001b[0m\u001b[0mclamp\u001b[0m\u001b[0;34m(\u001b[0m\u001b[0;34m-\u001b[0m\u001b[0meps_grads\u001b[0m\u001b[0;34m,\u001b[0m \u001b[0mmin\u001b[0m\u001b[0;34m=\u001b[0m\u001b[0;36m0\u001b[0m\u001b[0;34m)\u001b[0m\u001b[0;34m\u001b[0m\u001b[0;34m\u001b[0m\u001b[0m\n\u001b[1;32m     28\u001b[0m         \u001b[0ml1_norm\u001b[0m \u001b[0;34m=\u001b[0m \u001b[0mtorch\u001b[0m\u001b[0;34m.\u001b[0m\u001b[0msum\u001b[0m\u001b[0;34m(\u001b[0m\u001b[0mw_tilde\u001b[0m\u001b[0;34m)\u001b[0m\u001b[0;34m\u001b[0m\u001b[0;34m\u001b[0m\u001b[0m\n\u001b[0;32m---> 29\u001b[0;31m         \u001b[0;32mif\u001b[0m \u001b[0ml1_norm\u001b[0m \u001b[0;34m!=\u001b[0m \u001b[0;36m0\u001b[0m\u001b[0;34m:\u001b[0m\u001b[0;34m\u001b[0m\u001b[0;34m\u001b[0m\u001b[0m\n\u001b[0m\u001b[1;32m     30\u001b[0m             \u001b[0mw\u001b[0m \u001b[0;34m=\u001b[0m \u001b[0mw_tilde\u001b[0m \u001b[0;34m/\u001b[0m \u001b[0ml1_norm\u001b[0m\u001b[0;34m\u001b[0m\u001b[0;34m\u001b[0m\u001b[0m\n\u001b[1;32m     31\u001b[0m         \u001b[0;32melse\u001b[0m\u001b[0;34m:\u001b[0m\u001b[0;34m\u001b[0m\u001b[0;34m\u001b[0m\u001b[0m\n",
      "\u001b[0;31mKeyboardInterrupt\u001b[0m: "
     ]
    }
   ],
   "source": [
    "for rnd in tqdm(range(1, args.epochs+1)):\n",
    "    model.train()\n",
    "    train_loss, train_acc = 0.0, 0.0 \n",
    "    \n",
    "    for _, (inputs, labels) in enumerate(train_loader):\n",
    "        inputs, labels = inputs.to(device=args.device, non_blocking=True),\\\n",
    "                        labels.to(device=args.device, non_blocking=True)\n",
    "        opt.zero_grad()\n",
    "        \n",
    "        with higher.innerloop_ctx(model, opt) as (meta_model, meta_opt):\n",
    "            # 1. Update meta model on training data\n",
    "            meta_train_outputs = meta_model(inputs)\n",
    "            criterion.reduction = 'none'\n",
    "            meta_train_loss = criterion(meta_train_outputs, labels)\n",
    "            eps = torch.rand(meta_train_loss.size(), requires_grad=False, device=args.device).div(1e6)\n",
    "            eps.requires_grad = True\n",
    "            meta_train_loss = torch.sum(eps * meta_train_loss)\n",
    "            meta_opt.step(meta_train_loss)\n",
    "            \n",
    "            # 2. Compute grads of eps on meta validation data\n",
    "            meta_val_outputs = meta_model(meta_inputs)\n",
    "            criterion.reduction = 'mean'\n",
    "            meta_val_loss = criterion(meta_val_outputs, meta_labels)\n",
    "            eps_grads = torch.autograd.grad(meta_val_loss, eps, only_inputs=True)[0].detach()\n",
    "            \n",
    "        # 3. Compute weights for current training batch\n",
    "        w_tilde = torch.clamp(-eps_grads, min=0)\n",
    "        l1_norm = torch.sum(w_tilde)\n",
    "        if l1_norm != 0:\n",
    "            w = w_tilde / l1_norm\n",
    "        else:\n",
    "            w = w_tilde\n",
    "            \n",
    "        # 4. Train model on weighted batch\n",
    "        outputs = model(inputs)\n",
    "        criterion.reduction = 'none'\n",
    "        minibatch_loss = criterion(outputs, labels)\n",
    "        minibatch_loss = torch.sum(w * minibatch_loss)\n",
    "        minibatch_loss.backward()\n",
    "        \n",
    "        torch.nn.utils.clip_grad_norm_(model.parameters(), max_norm=5)\n",
    "        opt.step()\n",
    "        \n",
    "        # keep track of epoch loss/accuracy\n",
    "        train_loss += minibatch_loss.item()*outputs.shape[0]\n",
    "        _, pred_labels = torch.max(outputs, 1)\n",
    "        train_acc += torch.sum(torch.eq(pred_labels.view(-1), labels)).item()\n",
    "        \n",
    "    # inference after epoch\n",
    "    with torch.no_grad():\n",
    "        train_loss, train_acc = train_loss/len(train_dataset), train_acc/len(train_dataset)       \n",
    "        val_loss, (val_acc, val_per_class) = utils.get_loss_n_accuracy(model, criterion, val_loader, args)                                  \n",
    "        scheduler.step(val_loss)\n",
    "        # log/print data\n",
    "        #writer.add_scalar('Validation/Loss', val_loss, rnd)\n",
    "        #writer.add_scalar('Validation/Accuracy', val_acc, rnd)\n",
    "        #writer.add_scalar('Training/Loss', train_loss, rnd)\n",
    "        #writer.add_scalar('Training/Accuracy', train_acc, rnd)\n",
    "        print(f'|Train/Valid Loss: {train_loss:.3f} / {val_loss:.3f}|', end='--')\n",
    "        print(f'|Train/Valid Acc: {train_acc:.3f} / {val_acc:.3f}|', end='\\r')"
   ]
  },
  {
   "cell_type": "code",
   "execution_count": null,
   "metadata": {},
   "outputs": [],
   "source": [
    "end_time.record()\n",
    "torch.cuda.synchronize()\n",
    "time_elapsed_secs = start_time.elapsed_time(end_time)/10**3\n",
    "time_elapsed_mins = time_elapsed_secs/60\n",
    "print(f'Training took {time_elapsed_secs:.2f} seconds / {time_elapsed_mins:.2f} minutes')"
   ]
  }
 ],
 "metadata": {
  "kernelspec": {
   "display_name": "Python 3",
   "language": "python",
   "name": "python3"
  },
  "language_info": {
   "codemirror_mode": {
    "name": "ipython",
    "version": 3
   },
   "file_extension": ".py",
   "mimetype": "text/x-python",
   "name": "python",
   "nbconvert_exporter": "python",
   "pygments_lexer": "ipython3",
   "version": "3.7.3"
  }
 },
 "nbformat": 4,
 "nbformat_minor": 2
}
